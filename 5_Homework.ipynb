{
 "cells": [
  {
   "cell_type": "code",
   "execution_count": 1,
   "metadata": {},
   "outputs": [],
   "source": [
    "import numpy as np\n",
    "import matplotlib.pyplot as plt"
   ]
  },
  {
   "cell_type": "markdown",
   "metadata": {},
   "source": [
    "### Скалярное произведение векторов"
   ]
  },
  {
   "cell_type": "code",
   "execution_count": 4,
   "metadata": {},
   "outputs": [
    {
     "data": {
      "text/plain": [
       "70"
      ]
     },
     "execution_count": 4,
     "metadata": {},
     "output_type": "execute_result"
    }
   ],
   "source": [
    "a = [10, 20, 40]\n",
    "b = [-1, 0, 2]\n",
    "\n",
    "np.dot(a, b)"
   ]
  },
  {
   "cell_type": "markdown",
   "metadata": {},
   "source": [
    "### Перемножение матриц"
   ]
  },
  {
   "cell_type": "code",
   "execution_count": 104,
   "metadata": {},
   "outputs": [
    {
     "name": "stdout",
     "output_type": "stream",
     "text": [
      "[[44, 44, 66], [40, 47, 80], [11, 10, 13]]\n"
     ]
    },
    {
     "data": {
      "text/plain": [
       "array([[44, 44, 66],\n",
       "       [40, 47, 80],\n",
       "       [11, 10, 13]])"
      ]
     },
     "execution_count": 104,
     "metadata": {},
     "output_type": "execute_result"
    }
   ],
   "source": [
    "a = [[2, 4, 8], [3, 5, 7], [0, 1, 2]]\n",
    "b = [[0, 2, 7], [1, 4, 9], [5, 3, 2]]\n",
    "\n",
    "def no_numpy_mult(first, second):\n",
    "    \"\"\"\n",
    "    param first: list of \"size\" lists, each contains \"size\" floats\n",
    "    param second: list of \"size\" lists, each contains \"size\" floats\n",
    "    \"\"\"\n",
    "    # create list of lists, not np.array\n",
    "    L = []\n",
    "    size = len(first)\n",
    "    for k in range(size):\n",
    "        vector = first[k]\n",
    "        L.append([])\n",
    "        for i in range(size):\n",
    "            sum = 0\n",
    "            for j in range(size):\n",
    "                sum += vector[j] * second[j][i]\n",
    "            L[k].append(sum)\n",
    "    return L\n",
    "\n",
    "print(no_numpy_mult(a, b))\n",
    "\n",
    "def numpy_mult(first, second):\n",
    "    \"\"\"\n",
    "    param first: np.array[size, size]\n",
    "    param second: np.array[size, size]\n",
    "    \"\"\"\n",
    "    # create np.array\n",
    "    return np.matmul(first, second)\n",
    "\n",
    "numpy_mult(a, b)"
   ]
  },
  {
   "cell_type": "markdown",
   "metadata": {},
   "source": [
    "### Скалярное произведение"
   ]
  },
  {
   "cell_type": "code",
   "execution_count": 108,
   "metadata": {},
   "outputs": [
    {
     "name": "stdout",
     "output_type": "stream",
     "text": [
      "56\n"
     ]
    },
    {
     "data": {
      "text/plain": [
       "56"
      ]
     },
     "execution_count": 108,
     "metadata": {},
     "output_type": "execute_result"
    }
   ],
   "source": [
    "a = [3, 5, 9]\n",
    "b = [1, 7, 2]\n",
    "\n",
    "def no_numpy_scalar(v1, v2):\n",
    "    sum = 0\n",
    "    for i in range(3):\n",
    "        sum += v1[i] * v2[i]\n",
    "    return sum\n",
    "\n",
    "print(no_numpy_scalar(a, b))\n",
    "\n",
    "def numpy_scalar (v1, v2):\n",
    "    return np.dot(v1, v2)\n",
    "\n",
    "numpy_scalar (a, b)"
   ]
  },
  {
   "attachments": {},
   "cell_type": "markdown",
   "metadata": {},
   "source": [
    "### Сумма четных элементов на главной диагонали"
   ]
  },
  {
   "cell_type": "code",
   "execution_count": 135,
   "metadata": {},
   "outputs": [
    {
     "data": {
      "text/plain": [
       "14"
      ]
     },
     "execution_count": 135,
     "metadata": {},
     "output_type": "execute_result"
    }
   ],
   "source": [
    "matrix = np.arange(2, 18).reshape(4, 4)\n",
    "\n",
    "def diag_2k(a):\n",
    "    sum = 0\n",
    "    for i in range(len(a)):\n",
    "        if a[i, i] % 2 == 0:\n",
    "            sum += a[i, i]\n",
    "    return sum\n",
    "\n",
    "diag_2k(matrix)\n",
    "\n",
    "# or\n",
    "\n",
    "np.sum(np.diag(matrix)[np.diag(matrix) % 2 == 0])"
   ]
  },
  {
   "attachments": {},
   "cell_type": "markdown",
   "metadata": {},
   "source": [
    "### Cumsum()"
   ]
  },
  {
   "cell_type": "code",
   "execution_count": 153,
   "metadata": {},
   "outputs": [
    {
     "data": {
      "text/plain": [
       "array([[ 1,  3,  6],\n",
       "       [ 4,  9, 15]])"
      ]
     },
     "execution_count": 153,
     "metadata": {},
     "output_type": "execute_result"
    }
   ],
   "source": [
    "a = np.array([[1, 2, 3], [4, 5, 6]])\n",
    "\n",
    "def cumsum(A):\n",
    "    L = []\n",
    "    for i in range(len(A)):\n",
    "        L.append(np.cumsum(A[i]))\n",
    "    return L\n",
    "\n",
    "cumsum(a)\n",
    "\n",
    "# or\n",
    "\n",
    "np.cumsum(a, axis = 1)"
   ]
  },
  {
   "cell_type": "markdown",
   "metadata": {},
   "source": [
    "### Склеивание"
   ]
  },
  {
   "cell_type": "code",
   "execution_count": 298,
   "metadata": {},
   "outputs": [
    {
     "name": "stdout",
     "output_type": "stream",
     "text": [
      "[[      100       200       300       400       500 125000000         1\n",
      "   27000000         1   1000000]\n",
      " [        1         2         3         4         5       125         1\n",
      "         27         1         1]]\n"
     ]
    },
    {
     "data": {
      "text/plain": [
       "array([[      100,       200,       300,       400,       500, 125000000,\n",
       "                1,  27000000,         1,   1000000],\n",
       "       [        1,         2,         3,         4,         5,       125,\n",
       "                1,        27,         1,         1]])"
      ]
     },
     "execution_count": 298,
     "metadata": {},
     "output_type": "execute_result"
    }
   ],
   "source": [
    "X = np.array([[100, 200, 300, 400, 500], [1, 2, 3, 4, 5]])\n",
    "\n",
    "def transform(X, a = 1):\n",
    "    L = []\n",
    "    for i in range(len(X)):\n",
    "        X1 = X[i].copy()\n",
    "        X1[1::2] = X1[1::2] * 0 + a\n",
    "        X1[::2] = X1[::2] ** 3\n",
    "        X1 = X1[::-1]\n",
    "        L.append(np.hstack((X[i], X1)))\n",
    "    return np.array(L)\n",
    "\n",
    "print(transform(X))\n",
    "\n",
    "# or\n",
    "\n",
    "X1 = X.copy()\n",
    "X1[:, 1::2] = 1 # важно указывать : до , - показывает, что ко всем строкам применяем операцию\n",
    "X1[:, ::2] = X1[:, ::2] ** 3\n",
    "X1 = X1[:, ::-1]\n",
    "X1 = np.hstack((X, X1))\n",
    "X1"
   ]
  },
  {
   "cell_type": "markdown",
   "metadata": {},
   "source": [
    "### Кодирование массива"
   ]
  }
 ],
 "metadata": {
  "kernelspec": {
   "display_name": "Python 3",
   "language": "python",
   "name": "python3"
  },
  "language_info": {
   "codemirror_mode": {
    "name": "ipython",
    "version": 3
   },
   "file_extension": ".py",
   "mimetype": "text/x-python",
   "name": "python",
   "nbconvert_exporter": "python",
   "pygments_lexer": "ipython3",
   "version": "3.10.10"
  },
  "orig_nbformat": 4
 },
 "nbformat": 4,
 "nbformat_minor": 2
}
